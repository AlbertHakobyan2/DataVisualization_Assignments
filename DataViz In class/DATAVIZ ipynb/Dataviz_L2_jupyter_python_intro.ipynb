{
 "cells": [
  {
   "cell_type": "markdown",
   "id": "eae6e478-dd26-4407-97be-ab87d8c4bfa5",
   "metadata": {},
   "source": [
    "### L1\n",
    "\n",
    "- Types\n",
    "- Names\n",
    "- Variables\n",
    "\n",
    "- Lists\n",
    "**List Slicing** (will be useful for additional task)\n",
    "- in Python the indexing starts from `0`, in R it starts from `1`\n",
    "- print(x[1:3]) 2,3,4th elements will be printed\n",
    "- List Sorting\n",
    "\n",
    "\n",
    "- Dictionaries\n",
    "    - can be used to make JSON files for passing to other programmers for instance\n",
    "    - It has keys and values dict = { a: 1, b: 2, c:3}\n",
    "        - Learn how to list all the keys and all the values and how to ADD to the dict\n",
    "     \n",
    "- Loops (if elif else)\n",
    "\n",
    "- Why do we need loops\n",
    "    - When we want to create many visualizations of the same type, I can build a loop which takes care of the\n",
    "\n",
    "- While Loops: we check some condition and repeat something until\n",
    "\n",
    "> If I don't know how many times to repeat the same action I should use while loops"
   ]
  },
  {
   "cell_type": "markdown",
   "id": "06aea72f-a683-45be-92f6-87ce24a15b67",
   "metadata": {},
   "source": [
    "### break and continue statements\n",
    "\n",
    "cities = [\"a\", \"v\", \"c\", \"d\", \"e\"]\n",
    "\n",
    "for x in range(5): # from 0 to 4\n",
    "    print(x)\n",
    "\n",
    "for x in range(2,5):\n",
    "    print(x)\n",
    "\n",
    "\n",
    "Functions"
   ]
  },
  {
   "cell_type": "code",
   "execution_count": 4,
   "id": "55b8c1d0-c650-45cc-b23f-a6f0e49cb2c1",
   "metadata": {},
   "outputs": [],
   "source": [
    "### Packages\n",
    "\n",
    "import numpy as np\n",
    "import pandas as pd\n",
    "import matplotlib.pyplot as plt\n",
    "import seaborn as sns\n",
    "import plotly.express as px\n",
    "from plotnine import ggplot, aes, geom_line, geom_point\n",
    "\n",
    "# Machine learning and stats\n",
    "from sklearn.model_selection import train_test_split\n",
    "from sklearn.preprocessing import StandardScaler\n",
    "import statsmodels.api as sm\n",
    "\n",
    "# Enable inline plotting for Jupyter Notebooks\n",
    "%matplotlib inline"
   ]
  },
  {
   "cell_type": "code",
   "execution_count": null,
   "id": "c45b1103-96a3-4e8b-97d7-89e9bebdac90",
   "metadata": {},
   "outputs": [],
   "source": []
  }
 ],
 "metadata": {
  "kernelspec": {
   "display_name": "Python [conda env:base] *",
   "language": "python",
   "name": "conda-base-py"
  },
  "language_info": {
   "codemirror_mode": {
    "name": "ipython",
    "version": 3
   },
   "file_extension": ".py",
   "mimetype": "text/x-python",
   "name": "python",
   "nbconvert_exporter": "python",
   "pygments_lexer": "ipython3",
   "version": "3.12.7"
  }
 },
 "nbformat": 4,
 "nbformat_minor": 5
}
